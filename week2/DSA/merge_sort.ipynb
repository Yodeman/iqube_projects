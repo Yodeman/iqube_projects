{
 "cells": [
  {
   "cell_type": "markdown",
   "metadata": {},
   "source": [
    "## Mergesort Algorithm"
   ]
  },
  {
   "cell_type": "code",
   "execution_count": 1,
   "metadata": {},
   "outputs": [],
   "source": [
    "def merge(S1, S2, S):\n",
    "    \"\"\"Merge two sorted Python lists S1 and S2 into properly sized list S.\"\"\"\n",
    "    i=j=0\n",
    "    while i+j < len(S):\n",
    "        if j==len(S2) or (i<len(S1) and S1[i]<S2[j]):\n",
    "            S[i+j]=S1[i]\n",
    "            i += 1\n",
    "        else:\n",
    "            S[i+j]=S2[j]\n",
    "            j += 1"
   ]
  },
  {
   "cell_type": "code",
   "execution_count": 2,
   "metadata": {},
   "outputs": [],
   "source": [
    "def merge_sort(S):\n",
    "    \"\"\"Sort the element of Python list S using the merge-sort algorithm.\"\"\"\n",
    "    n = len(S)\n",
    "    if n<2:\n",
    "        return\n",
    "    \n",
    "    # divide\n",
    "    mid = n//2\n",
    "    S1 = S[0:mid]\n",
    "    S2 = S[mid:n]\n",
    "\n",
    "    # conquer (with recursion)\n",
    "    merge_sort(S1)\n",
    "    merge_sort(S2)\n",
    "\n",
    "    # merge results\n",
    "    merge(S1, S2, S)"
   ]
  },
  {
   "cell_type": "code",
   "execution_count": 3,
   "metadata": {},
   "outputs": [],
   "source": [
    "from copy import deepcopy\n",
    "import random\n",
    "random.seed(10)"
   ]
  },
  {
   "cell_type": "code",
   "execution_count": 4,
   "metadata": {},
   "outputs": [],
   "source": [
    "sample = random.choices(range(1,10000), k=5000)\n",
    "unsorted_sample = deepcopy(sample)"
   ]
  },
  {
   "cell_type": "code",
   "execution_count": 5,
   "metadata": {},
   "outputs": [
    {
     "name": "stdout",
     "output_type": "stream",
     "text": [
      "Wall time: 83 ms\n"
     ]
    }
   ],
   "source": [
    "# sort sample using the mergesort algorithm and report the time taken to sort the 5000 sized\n",
    "%%time\n",
    "merge_sort(sample)"
   ]
  },
  {
   "cell_type": "code",
   "execution_count": 6,
   "metadata": {},
   "outputs": [
    {
     "data": {
      "text/plain": [
       "True"
      ]
     },
     "execution_count": 6,
     "metadata": {},
     "output_type": "execute_result"
    }
   ],
   "source": [
    "sample==sorted(unsorted_sample)"
   ]
  },
  {
   "cell_type": "code",
   "execution_count": null,
   "metadata": {},
   "outputs": [],
   "source": []
  }
 ],
 "metadata": {
  "kernelspec": {
   "display_name": "Python 3",
   "language": "python",
   "name": "python3"
  },
  "language_info": {
   "codemirror_mode": {
    "name": "ipython",
    "version": 3
   },
   "file_extension": ".py",
   "mimetype": "text/x-python",
   "name": "python",
   "nbconvert_exporter": "python",
   "pygments_lexer": "ipython3",
   "version": "3.7.6"
  }
 },
 "nbformat": 4,
 "nbformat_minor": 4
}
