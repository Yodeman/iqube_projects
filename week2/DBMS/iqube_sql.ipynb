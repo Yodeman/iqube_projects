{
 "cells": [
  {
   "cell_type": "code",
   "execution_count": 1,
   "metadata": {},
   "outputs": [],
   "source": [
    "import mysql.connector\n",
    "from mysql.connector import Error"
   ]
  },
  {
   "cell_type": "code",
   "execution_count": 3,
   "metadata": {},
   "outputs": [],
   "source": [
    "def create_connection(host_name, user_name, user_password):\n",
    "    connection = None\n",
    "    try:\n",
    "        connection = mysql.connector.connect(\n",
    "            host=host_name,\n",
    "            user=user_name,\n",
    "            passwd=user_password\n",
    "        )\n",
    "        print(\"Connetion to MySQL DB successful\")\n",
    "    except Error as e:\n",
    "        print(f\"The error '{e}' occured\")\n",
    "    return connection\n"
   ]
  },
  {
   "cell_type": "code",
   "execution_count": 4,
   "metadata": {},
   "outputs": [
    {
     "name": "stdout",
     "output_type": "stream",
     "text": [
      "Connetion to MySQL DB successful\n"
     ]
    }
   ],
   "source": [
    "#create a connection and connnect to mysql database server\n",
    "host = \"localhost\"\n",
    "user = \"root\"\n",
    "passwd = \"\"\n",
    "connection = create_connection(host, user, passwd)"
   ]
  },
  {
   "cell_type": "code",
   "execution_count": 5,
   "metadata": {},
   "outputs": [],
   "source": [
    "def create_dbase(connection, query):\n",
    "    cursor = connection.cursor()\n",
    "    try:\n",
    "        cursor.execute(query)\n",
    "        print(\"Database created successfully.\")\n",
    "    except Error as e:\n",
    "        print(f\"The error '{e}' occurred\")"
   ]
  },
  {
   "cell_type": "code",
   "execution_count": 6,
   "metadata": {},
   "outputs": [
    {
     "name": "stdout",
     "output_type": "stream",
     "text": [
      "Database created successfully.\n"
     ]
    }
   ],
   "source": [
    "#create my database\n",
    "create_dbase_query = \"CREATE DATABASE iqube_learn\"\n",
    "create_dbase(connection, create_dbase_query)"
   ]
  },
  {
   "cell_type": "code",
   "execution_count": 8,
   "metadata": {},
   "outputs": [],
   "source": [
    "#edit the create_connetion function inorder to connect to my iqube_learn database\n",
    "def create_connection(host_name, user_name, user_password, db_name):\n",
    "    connection = None\n",
    "    try:\n",
    "        connection = mysql.connector.connect(\n",
    "            host=host_name,\n",
    "            user=user_name,\n",
    "            passwd=user_password,\n",
    "            database=db_name\n",
    "        )\n",
    "        print(\"Connetion to MySQL DB successful\")\n",
    "    except Error as e:\n",
    "        print(f\"The error '{e}' occured\")\n",
    "    return connection"
   ]
  },
  {
   "cell_type": "code",
   "execution_count": 9,
   "metadata": {},
   "outputs": [
    {
     "name": "stdout",
     "output_type": "stream",
     "text": [
      "Connetion to MySQL DB successful\n"
     ]
    }
   ],
   "source": [
    "db_name = \"iqube_learn\"\n",
    "connection = create_connection(host, user, passwd, db_name)"
   ]
  },
  {
   "cell_type": "markdown",
   "metadata": {},
   "source": [
    "## Creating Tables\n",
    "a simple social media database"
   ]
  },
  {
   "cell_type": "code",
   "execution_count": 10,
   "metadata": {},
   "outputs": [],
   "source": [
    "def execute_query(connection, query):\n",
    "    cursor = connection.cursor()\n",
    "    try:\n",
    "        cursor.execute(query)\n",
    "        connection.commit()\n",
    "        print(\"Query executed successfully\")\n",
    "    except Error as e:\n",
    "        print(f\"The error '{e}' occured\")"
   ]
  },
  {
   "cell_type": "code",
   "execution_count": 16,
   "metadata": {},
   "outputs": [],
   "source": [
    "create_users_table = \"\"\"\n",
    "CREATE TABLE IF NOT EXISTS users(\n",
    "    id INT AUTO_INCREMENT,\n",
    "    name TEXT NOT NULL,\n",
    "    age INT,\n",
    "    gender INT,\n",
    "    nationality TEXT,\n",
    "    PRIMARY KEY (id)\n",
    ")\n",
    "\"\"\""
   ]
  },
  {
   "cell_type": "code",
   "execution_count": 17,
   "metadata": {},
   "outputs": [
    {
     "name": "stdout",
     "output_type": "stream",
     "text": [
      "Query executed successfully\n"
     ]
    }
   ],
   "source": [
    "execute_query(connection, create_users_table)"
   ]
  },
  {
   "cell_type": "code",
   "execution_count": 18,
   "metadata": {},
   "outputs": [],
   "source": [
    "create_posts_table=\"\"\"\n",
    "CREATE TABLE IF NOT EXISTS posts(\n",
    "    id INT AUTO_INCREMENT,\n",
    "    title TEXT NOT NULL,\n",
    "    description TEXT NOT NULL,\n",
    "    user_id INT NOT NULL,\n",
    "    FOREIGN KEY fk_user_id (user_id) REFERENCES users(id),\n",
    "    PRIMARY KEY (id)\n",
    ")\n",
    "\"\"\""
   ]
  },
  {
   "cell_type": "code",
   "execution_count": 19,
   "metadata": {},
   "outputs": [
    {
     "name": "stdout",
     "output_type": "stream",
     "text": [
      "Query executed successfully\n"
     ]
    }
   ],
   "source": [
    "execute_query(connection, create_posts_table)"
   ]
  },
  {
   "cell_type": "code",
   "execution_count": 26,
   "metadata": {},
   "outputs": [],
   "source": [
    "create_comments_table=\"\"\"\n",
    "CREATE TABLE IF NOT EXISTS comments(\n",
    "    id INT AUTO_INCREMENT,\n",
    "    text TEXT NOT NULL,\n",
    "    post_id INT NOT NULL,\n",
    "    user_id INT NOT NULL,\n",
    "    FOREIGN KEY fkc_user_id (user_id) REFERENCES users(id),\n",
    "    FOREIGN KEY fkc_post_id (post_id) REFERENCES posts(id),\n",
    "    PRIMARY KEY (id)\n",
    ")\n",
    "\"\"\"\n",
    "#fkc-comments foreign key"
   ]
  },
  {
   "cell_type": "code",
   "execution_count": 27,
   "metadata": {},
   "outputs": [
    {
     "name": "stdout",
     "output_type": "stream",
     "text": [
      "Query executed successfully\n"
     ]
    }
   ],
   "source": [
    "execute_query(connection, create_comments_table)"
   ]
  },
  {
   "cell_type": "code",
   "execution_count": 28,
   "metadata": {},
   "outputs": [],
   "source": [
    "create_likes_table=\"\"\"\n",
    "CREATE TABLE IF NOT EXISTS likes(\n",
    "    id INT AUTO_INCREMENT,\n",
    "    user_id INT NOT NULL,\n",
    "    post_id INT NOT NULL,\n",
    "    FOREIGN KEY fkl_user_id (user_id) REFERENCES users(id),\n",
    "    FOREIGN KEY fkl_post_id (post_id) REFERENCES posts(id),\n",
    "    PRIMARY KEY (id)\n",
    ")\n",
    "\"\"\"\n",
    "#fkl-likes foreign key"
   ]
  },
  {
   "cell_type": "code",
   "execution_count": 29,
   "metadata": {},
   "outputs": [
    {
     "name": "stdout",
     "output_type": "stream",
     "text": [
      "Query executed successfully\n"
     ]
    }
   ],
   "source": [
    "execute_query(connection, create_likes_table)"
   ]
  },
  {
   "cell_type": "markdown",
   "metadata": {},
   "source": [
    "## Inserting Records"
   ]
  },
  {
   "cell_type": "code",
   "execution_count": 30,
   "metadata": {},
   "outputs": [],
   "source": [
    "create_users = \"\"\"\n",
    "INSERT INTO\n",
    "  `users` (`name`, `age`, `gender`, `nationality`)\n",
    "VALUES\n",
    "  ('James', 25, 'male', 'USA'),\n",
    "  ('Leila', 32, 'female', 'France'),\n",
    "  ('Brigitte', 35, 'female', 'England'),\n",
    "  ('Mike', 40, 'male', 'Denmark'),\n",
    "  ('Elizabeth', 21, 'female', 'Canada');\n",
    "\"\"\""
   ]
  },
  {
   "cell_type": "code",
   "execution_count": 31,
   "metadata": {},
   "outputs": [
    {
     "name": "stdout",
     "output_type": "stream",
     "text": [
      "Query executed successfully\n"
     ]
    }
   ],
   "source": [
    "execute_query(connection, create_users)"
   ]
  },
  {
   "cell_type": "code",
   "execution_count": 32,
   "metadata": {},
   "outputs": [],
   "source": [
    "create_posts = \"\"\"\n",
    "INSERT INTO\n",
    "  `posts` (`title`, `description`, `user_id`)\n",
    "VALUES\n",
    "  (\"Happy\", \"I am feeling very happy today\", 1),\n",
    "  (\"Hot Weather\", \"The weather is very hot today\", 2),\n",
    "  (\"Help\", \"I need some help with my work\", 2),\n",
    "  (\"Great News\", \"I am getting married\", 1),\n",
    "  (\"Interesting Game\", \"It was a fantastic game of tennis\", 5),\n",
    "  (\"Party\", \"Anyone up for a late-night party today?\", 3);\n",
    "\"\"\""
   ]
  },
  {
   "cell_type": "code",
   "execution_count": 33,
   "metadata": {},
   "outputs": [
    {
     "name": "stdout",
     "output_type": "stream",
     "text": [
      "Query executed successfully\n"
     ]
    }
   ],
   "source": [
    "execute_query(connection, create_posts)"
   ]
  },
  {
   "cell_type": "code",
   "execution_count": 34,
   "metadata": {},
   "outputs": [],
   "source": [
    "create_comments = \"\"\"\n",
    "INSERT INTO\n",
    "  `comments` (`text`, `user_id`, `post_id`)\n",
    "VALUES\n",
    "  ('Count me in', 1, 6),\n",
    "  ('What sort of help?', 5, 3),\n",
    "  ('Congrats buddy', 2, 4),\n",
    "  ('I was rooting for Nadal though', 4, 5),\n",
    "  ('Help with your thesis?', 2, 3),\n",
    "  ('Many congratulations', 5, 4);\n",
    "\"\"\""
   ]
  },
  {
   "cell_type": "code",
   "execution_count": 35,
   "metadata": {},
   "outputs": [
    {
     "name": "stdout",
     "output_type": "stream",
     "text": [
      "Query executed successfully\n"
     ]
    }
   ],
   "source": [
    "execute_query(connection, create_comments)"
   ]
  },
  {
   "cell_type": "code",
   "execution_count": 36,
   "metadata": {},
   "outputs": [],
   "source": [
    "create_likes = \"\"\"\n",
    "INSERT INTO\n",
    "  `likes` (`user_id`, `post_id`)\n",
    "VALUES\n",
    "  (1, 6),\n",
    "  (2, 3),\n",
    "  (1, 5),\n",
    "  (5, 4),\n",
    "  (2, 4),\n",
    "  (4, 2),\n",
    "  (3, 6);\n",
    "\"\"\""
   ]
  },
  {
   "cell_type": "code",
   "execution_count": 37,
   "metadata": {},
   "outputs": [
    {
     "name": "stdout",
     "output_type": "stream",
     "text": [
      "Query executed successfully\n"
     ]
    }
   ],
   "source": [
    "execute_query(connection, create_likes)"
   ]
  },
  {
   "cell_type": "markdown",
   "metadata": {},
   "source": [
    "## Selecting from Records"
   ]
  },
  {
   "cell_type": "code",
   "execution_count": 38,
   "metadata": {},
   "outputs": [],
   "source": [
    "def execute_read_query(connection, query):\n",
    "    cursor = connection.cursor()\n",
    "    result = None\n",
    "    try:\n",
    "        cursor.execute(query)\n",
    "        result = cursor.fetchall()\n",
    "        return result\n",
    "    except Error as e:\n",
    "        print(f\"The error '{e}' occurred.\")"
   ]
  },
  {
   "cell_type": "code",
   "execution_count": 39,
   "metadata": {},
   "outputs": [
    {
     "name": "stdout",
     "output_type": "stream",
     "text": [
      "(1, 'Happy', 'I am feeling very happy today', 1)\n",
      "(2, 'Hot Weather', 'The weather is very hot today', 2)\n",
      "(3, 'Help', 'I need some help with my work', 2)\n",
      "(4, 'Great News', 'I am getting married', 1)\n",
      "(5, 'Interesting Game', 'It was a fantastic game of tennis', 5)\n",
      "(6, 'Party', 'Anyone up for a late-night party today?', 3)\n"
     ]
    }
   ],
   "source": [
    "select_posts = \"SELECT * FROM posts\"\n",
    "posts = execute_read_query(connection, select_posts)\n",
    "\n",
    "for post in posts:\n",
    "    print(post)"
   ]
  },
  {
   "cell_type": "code",
   "execution_count": 41,
   "metadata": {},
   "outputs": [
    {
     "name": "stdout",
     "output_type": "stream",
     "text": [
      "(1, 'James', 'I am feeling very happy today')\n",
      "(2, 'Leila', 'The weather is very hot today')\n",
      "(2, 'Leila', 'I need some help with my work')\n",
      "(1, 'James', 'I am getting married')\n",
      "(5, 'Elizabeth', 'It was a fantastic game of tennis')\n",
      "(3, 'Brigitte', 'Anyone up for a late-night party today?')\n"
     ]
    }
   ],
   "source": [
    "select_users_posts=\"\"\"\n",
    "SELECT\n",
    "    users.id,\n",
    "    users.name,\n",
    "    posts.description\n",
    "FROM\n",
    "    posts\n",
    "    INNER JOIN users ON users.id=posts.user_id\n",
    "\"\"\"\n",
    "users_posts =execute_read_query(connection, select_users_posts)\n",
    "\n",
    "for user_post in users_posts:\n",
    "    print(user_post)"
   ]
  },
  {
   "cell_type": "code",
   "execution_count": 43,
   "metadata": {},
   "outputs": [
    {
     "name": "stdout",
     "output_type": "stream",
     "text": [
      "('The weather is very hot today', 1)\n",
      "('I need some help with my work', 1)\n",
      "('I am getting married', 2)\n",
      "('It was a fantastic game of tennis', 1)\n",
      "('Anyone up for a late-night party today?', 2)\n"
     ]
    }
   ],
   "source": [
    "select_post_likes=\"\"\"\n",
    "SELECT\n",
    "    description as Post,\n",
    "    COUNT(likes.id) as Likes\n",
    "FROM\n",
    "    likes,\n",
    "    posts\n",
    "WHERE\n",
    "    posts.id=likes.post_id\n",
    "GROUP BY\n",
    "    likes.post_id\n",
    "\"\"\"\n",
    "post_likes = execute_read_query(connection, select_post_likes)\n",
    "\n",
    "for post_like in post_likes:\n",
    "    print(post_like)"
   ]
  },
  {
   "cell_type": "markdown",
   "metadata": {},
   "source": [
    "## Updating Records"
   ]
  },
  {
   "cell_type": "code",
   "execution_count": 45,
   "metadata": {},
   "outputs": [
    {
     "name": "stdout",
     "output_type": "stream",
     "text": [
      "Before updating:\n",
      "\n",
      "[('The weather is very hot today',)]\n"
     ]
    }
   ],
   "source": [
    "print(\"Before updating:\\n\")\n",
    "query_p = \"\"\"\n",
    "SELECT\n",
    "    description\n",
    "FROM\n",
    "    posts\n",
    "WHERE\n",
    "    id=2\n",
    "\"\"\"\n",
    "result_p = execute_read_query(connection, query_p)\n",
    "print(result_p)"
   ]
  },
  {
   "cell_type": "code",
   "execution_count": 46,
   "metadata": {},
   "outputs": [
    {
     "name": "stdout",
     "output_type": "stream",
     "text": [
      "Query executed successfully\n"
     ]
    }
   ],
   "source": [
    "update_post_descr=\"\"\"\n",
    "UPDATE\n",
    "    posts\n",
    "SET\n",
    "    description=\"The weather has become pleasant now\"\n",
    "WHERE\n",
    "    id=2\n",
    "\"\"\"\n",
    "execute_query(connection, update_post_descr)"
   ]
  },
  {
   "cell_type": "code",
   "execution_count": 47,
   "metadata": {},
   "outputs": [
    {
     "name": "stdout",
     "output_type": "stream",
     "text": [
      "After updating:\n",
      "\n",
      "[('The weather has become pleasant now',)]\n"
     ]
    }
   ],
   "source": [
    "print(\"After updating:\\n\")\n",
    "query_p = \"\"\"\n",
    "SELECT\n",
    "    description\n",
    "FROM\n",
    "    posts\n",
    "WHERE\n",
    "    id=2\n",
    "\"\"\"\n",
    "result_p = execute_read_query(connection, query_p)\n",
    "print(result_p)"
   ]
  },
  {
   "cell_type": "markdown",
   "metadata": {},
   "source": [
    "## Delete Record"
   ]
  },
  {
   "cell_type": "code",
   "execution_count": 52,
   "metadata": {},
   "outputs": [
    {
     "name": "stdout",
     "output_type": "stream",
     "text": [
      "Before deleting:\n",
      "\n",
      "(1, 'Count me in', 6, 1)\n",
      "(2, 'What sort of help?', 3, 5)\n",
      "(3, 'Congrats buddy', 4, 2)\n",
      "(4, 'I was rooting for Nadal though', 5, 4)\n",
      "(5, 'Help with your thesis?', 3, 2)\n",
      "(6, 'Many congratulations', 4, 5)\n"
     ]
    }
   ],
   "source": [
    "print(\"Before deleting:\\n\")\n",
    "query_1 = \"SELECT * FROM comments\"\n",
    "result_1 = execute_read_query(connection, query_1)\n",
    "for user in result_1:\n",
    "    print(user)"
   ]
  },
  {
   "cell_type": "code",
   "execution_count": 53,
   "metadata": {},
   "outputs": [
    {
     "name": "stdout",
     "output_type": "stream",
     "text": [
      "Query executed successfully\n"
     ]
    }
   ],
   "source": [
    "delete_user = \"DELETE FROM comments WHERE id=2\"\n",
    "execute_query(connection, delete_user)"
   ]
  },
  {
   "cell_type": "code",
   "execution_count": 54,
   "metadata": {},
   "outputs": [
    {
     "name": "stdout",
     "output_type": "stream",
     "text": [
      "After deleting:\n",
      "\n",
      "(1, 'Count me in', 6, 1)\n",
      "(3, 'Congrats buddy', 4, 2)\n",
      "(4, 'I was rooting for Nadal though', 5, 4)\n",
      "(5, 'Help with your thesis?', 3, 2)\n",
      "(6, 'Many congratulations', 4, 5)\n"
     ]
    }
   ],
   "source": [
    "print(\"After deleting:\\n\")\n",
    "query_1 = \"SELECT * FROM comments\"\n",
    "result_1 = execute_read_query(connection, query_1)\n",
    "for user in result_1:\n",
    "    print(user)"
   ]
  },
  {
   "cell_type": "code",
   "execution_count": 56,
   "metadata": {},
   "outputs": [
    {
     "name": "stdout",
     "output_type": "stream",
     "text": [
      "('biodata',)\n",
      "('group',)\n",
      "('group biodata',)\n",
      "('information_schema',)\n",
      "('iqube_learn',)\n",
      "('mysql',)\n",
      "('oaui',)\n",
      "('performance_schema',)\n",
      "('phpmyadmin',)\n",
      "('profile',)\n",
      "('pydb',)\n",
      "('test',)\n"
     ]
    }
   ],
   "source": [
    "cursor = connection.cursor()\n",
    "cursor.execute(\"SHOW DATABASES\")\n",
    "for db in cursor:\n",
    "    print(db)"
   ]
  }
 ],
 "metadata": {
  "kernelspec": {
   "display_name": "Python 3",
   "language": "python",
   "name": "python3"
  },
  "language_info": {
   "codemirror_mode": {
    "name": "ipython",
    "version": 3
   },
   "file_extension": ".py",
   "mimetype": "text/x-python",
   "name": "python",
   "nbconvert_exporter": "python",
   "pygments_lexer": "ipython3",
   "version": "3.7.6"
  }
 },
 "nbformat": 4,
 "nbformat_minor": 4
}
